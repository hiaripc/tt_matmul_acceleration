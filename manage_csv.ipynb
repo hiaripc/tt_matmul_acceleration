{
 "cells": [
  {
   "cell_type": "code",
   "execution_count": 2,
   "metadata": {},
   "outputs": [],
   "source": [
    "import pandas as pd\n",
    "import json\n",
    "import seaborn as sns\n",
    "import pandas as pd\n",
    "import json\n",
    "import matplotlib.pyplot as plt\n",
    "\n",
    "# All timing are in micro seconds (us) "
   ]
  },
  {
   "cell_type": "code",
   "execution_count": 3,
   "metadata": {},
   "outputs": [],
   "source": [
    "df = pd.read_csv(\"./results/mm_oob_fr_m2.csv\")\n",
    "confs = list(df['conf'].values)\n",
    "unq_m = df['m'].unique()\n",
    "n_confs = int(df.shape[0] / len(unq_m))\n",
    "# time_cols = [\"conversion_in0\",\t\"conversion_in1\",\t\"transfer_in0\",\t\"transfer_in1\",\t\"tilization_in0\",\t\"tilization_in1\",\t\"first_run\", \"inference_avg\"]\n",
    "# for col in time_cols:\n",
    "    # df[col] = df[col].values * 1e6"
   ]
  },
  {
   "cell_type": "code",
   "execution_count": 7,
   "metadata": {},
   "outputs": [],
   "source": [
    "df.groupby('m').mean(numeric_only=True).drop('n_run', axis=1).to_csv('./a.csv')"
   ]
  }
 ],
 "metadata": {
  "kernelspec": {
   "display_name": "tt-menv",
   "language": "python",
   "name": "python3"
  },
  "language_info": {
   "codemirror_mode": {
    "name": "ipython",
    "version": 3
   },
   "file_extension": ".py",
   "mimetype": "text/x-python",
   "name": "python",
   "nbconvert_exporter": "python",
   "pygments_lexer": "ipython3",
   "version": "3.8.10"
  }
 },
 "nbformat": 4,
 "nbformat_minor": 2
}
